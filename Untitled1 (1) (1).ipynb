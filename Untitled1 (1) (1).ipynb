{
 "cells": [
  {
   "cell_type": "code",
   "execution_count": 153,
   "metadata": {},
   "outputs": [],
   "source": [
    "import gensim\n",
    "import warnings\n",
    "warnings.filterwarnings(action='ignore', category=UserWarning, module='gensim')\n",
    "from gensim.models import Word2Vec\n",
    "from sklearn.decomposition import PCA\n",
    "from matplotlib import pyplot\n",
    "from nltk.tokenize import word_tokenize\n",
    "import matplotlib.font_manager as fm"
   ]
  },
  {
   "cell_type": "code",
   "execution_count": 154,
   "metadata": {},
   "outputs": [
    {
     "name": "stdout",
     "output_type": "stream",
     "text": [
      "<bound method NDFrame.head of                                                 lyrics  enum\n",
      "0    বিশ্ববীণারবে বিশ্বজন মোহিছে।\\r\\nস্থলে জলে নভতল...     1\n",
      "1    কুসুমে কুসুমে চরণচিহ্ন   দিয়ে যাও, শেষে  দাও ম...     1\n",
      "2    একি  আকুলতা ভুবনে!  একি  চঞ্চলতা পবনে॥\\r\\nএকি ...     1\n",
      "3    আজ  তালের বনের করতালি  কিসের তালে\\r\\nপূর্ণিমাচ...     1\n",
      "4    আঁধার কুঁড়ির বাঁধন টুটে  চাঁদের ফুল উঠেছে ফুটে...     1\n",
      "5     পূর্ণচাঁদের মায়ায় আজি ভাবনা আমার পথ ভোলে,\\r\\n...     1\n",
      "6     কত যে তুমি মনোহর মনই তাহা জানে,\\r\\n    হৃদয় ম...     1\n",
      "7    আকাশভরা সূর্য-তারা, বিশ্বভরা প্রাণ,\\r\\nতাহারি ...     1\n",
      "8    ব্যাকুল বকুলের ফুলে   ভ্রমর মরে পথ ভুলে॥\\r\\n  ...     1\n",
      "9    নাই রস নাই, দারুণ দাহনবেলা।   খেলো খেলো তব নীর...     1\n",
      "10   দারুণ অগ্নিবাণে রে   হৃদয় তৃষায় হানে রে॥\\r\\n  ...     1\n",
      "11   এসো এসো হে তৃষ্ণার জল,   কলকল্‌ ছলছল্‌–\\r\\nভেদ...     1\n",
      "12   হৃদয় আমার, ওই বুঝি তোর বৈশাখী ঝড় আসে।\\r\\nবেড়া-...     1\n",
      "13    এসো, এসো, এসো হে বৈশাখ।\\r\\nতাপসনিশ্বাসবায়ে   ...     1\n",
      "14   নমো নমো, হে বৈরাগী।\\r\\n     তপোবহ্নির শিখা জ্ব...     1\n",
      "15   মধ্যদিনে যবে গান বন্ধ করে পাখি,\\r\\nহে রাখাল, ব...     1\n",
      "16    ওই বুঝি কালবৈশাখী\\r\\n           সন্ধ্যা-আকাশ ...     1\n",
      "17   প্রখর তপনতাপে   আকাশ তৃষায় কাঁপে,\\r\\n    বায়ু ...     1\n",
      "18    বৈশাখের এই ভোরের হাওয়া আসে মৃদুমন্দ।\\r\\n  আনে...     1\n",
      "19    বৈশাখ হে, মৌনী তাপস, কোন্‌ অতলের বাণী\\r\\n    ...     1\n",
      "20    শুষ্কতাপের দৈত্যপুরে দ্বার ভাঙবে ব’লে,\\r\\n   ...     1\n",
      "21    হে তাপস, তব শুষ্ক কঠোর রূপের গভীর রসে\\r\\n  মন...     1\n",
      "22    মধ্যদিনের বিজন বাতায়নে \\r\\nক্লান্তি-ভরা কোন্‌...     1\n",
      "23   তপস্বিনী হে ধরণী,  ওই-যে তাপের বেলা আসে–\\r\\n  ...     1\n",
      "24     চক্ষে আমার তৃষ্ণা ওগো, তৃষ্ণা আমার বক্ষ জুড়ে...     1\n",
      "25      এসো শ্যামল সুন্দর,\\r\\n          আনো তব তাপহ...     1\n",
      "26   ওই আসে ওই  অতি ভৈরব হরষে\\r\\n          জলসিঞ্চি...     1\n",
      "27    ঝরঝর বরিষে বারিধারা।\\r\\n     হায় পথবাসী, হায় ...     1\n",
      "28   গহন ঘন ছাইল গগন ঘনাইয়া।\\r\\n     স্তিমিত দশদিশি...     1\n",
      "29     হেরিয়া শ্যামল ঘন নীল গগনে\\r\\nসেই সজল কাজল আঁ...     1\n",
      "..                                                 ...   ...\n",
      "710  আমি    একলা চলেছি এ ভবে,\\r\\n                  ...     3\n",
      "711   স্বপন-পারের ডাক শুনেছি, জেগে তাই তো ভাবি–\\r\\n...     3\n",
      "712  আপন-মনে গোপন কোণে লেখাজোখার কারখানাতে\\r\\n     ...     3\n",
      "713  সকাল-বেলার কুঁড়ি আমার বিকালে যায় টুটে,\\r\\n    ...     3\n",
      "714  পাগল যে তুই, কন্ঠ ভরে\\r\\n  জানিয়ে দে তাই সাহস ...     3\n",
      "715  খেলাঘর    বাঁধতে লেগেছি   আমার   মনের ভিতরে।\\r...     3\n",
      "716  গোপন প্রাণে একলা মানুষ যে\\r\\n      তারে   কাজে...     3\n",
      "717  আমার           জীর্ণ পাতা যাবার বেলায় বারে বার...     3\n",
      "718  এ শুধু অলস মায়া,   এ শুধু মেঘের খেলা,\\r\\n     ...     3\n",
      "719  যে আমি ওই ভেসে চলে      কালের ঢেউয়ে আকাশতলে\\r\\...     3\n",
      "720  দিনগুলি মোর সোনার খাঁচায় রইল না–\\r\\n          ...     3\n",
      "721  তরীতে পা দিই নি আমি, পারের পানে যাই নি গো।\\r\\n...     3\n",
      "722   আমি   ফিরব না রে, ফিরব না আর, ফিরব না রে–\\r\\n...     3\n",
      "723  আয়   আয় রে পাগল, ভুলবি রে চল্‌ আপনাকে,\\r\\n    ...     3\n",
      "724  কোন্‌  সুদূর হতে আমার মনোমাঝে\\r\\n       বাণীর ...     3\n",
      "725  আকাশ হতে আকাশ-পথে হাজার স্রোতে\\r\\n           ঝ...     3\n",
      "726  আলোক-চোরা লুকিয়ে এল ওই–\\r\\n              তিমির...     3\n",
      "727  জাগ’   আলসশয়নবিলগ্ন।\\r\\n               জাগ’   ...     3\n",
      "728  তোমার আসন শূন্য আজি হে বীর পূর্ণ করো–\\r\\n     ...     3\n",
      "729  মোরা    সত্যের ’পরে মন  আজি   করিব সমর্পণ,\\r\\n...     3\n",
      "730  আমাদের    শান্তিনিকেতন  আমাদের  সব হতে আপন।\\r\\...     3\n",
      "731  না গো,    এই যে ধুলা আমার না এ।\\r\\n           ...     3\n",
      "732  জীবন আমার চলছে যেমন তেমনি ভাবে\\r\\n            ...     3\n",
      "733  কী পাই নি তারি হিসাব মিলাতে মন মোর নহে রাজি।\\r...     3\n",
      "734  আমি    সব নিতে চাই,    সব নিতে ধাই রে।\\r\\n    ...     3\n",
      "735  আলো আমার, আলো ওগো, আলো ভুবন-ভরা,\\r\\n          ...     3\n",
      "736  ওরে ওরে   ওরে, আমার মন মেতেছে,\\r\\n            ...     3\n",
      "737  হারে রে রে রে রে,  আমায়  ছেড়ে দে রে, দে রে–\\r\\...     3\n",
      "738   আনন্দেরই সাগর হতে এসেছে আজ বান।\\r\\n         দ...     3\n",
      "739  খরবায়ু বয় বেগে,  চারি দিক ছায় মেঘে,\\r\\n       ...     3\n",
      "\n",
      "[740 rows x 2 columns]>\n"
     ]
    }
   ],
   "source": [
    "import pandas as pd\n",
    "df = pd.read_csv('final_dataset.csv')\n",
    "print(df.head)"
   ]
  },
  {
   "cell_type": "code",
   "execution_count": 155,
   "metadata": {},
   "outputs": [
    {
     "data": {
      "image/png": "[encoded data removed]",
      "text/plain": [
       "<Figure size 720x288 with 1 Axes>"
      ]
     },
     "metadata": {
      "needs_background": "light"
     },
     "output_type": "display_data"
    }
   ],
   "source": [
    "my_tags=['1.0','2.0','3.0','4.0']\n",
    "import matplotlib.pyplot as plt\n",
    "plt.figure(figsize=(10,4))\n",
    "df.enum.value_counts().plot(kind='bar');"
   ]
  },
  {
   "cell_type": "code",
   "execution_count": 156,
   "metadata": {},
   "outputs": [
    {
     "name": "stdout",
     "output_type": "stream",
     "text": [
      "দারুণ অগ্নিবাণে রে   হৃদয় তৃষায় হানে রে॥\r\n",
      "    রজনী নিদ্রাহীন,   দীর্ঘ দগ্ধ দিন\r\n",
      "         আরাম নাহি যে জানে রে॥\r\n",
      "    শুষ্ক কাননশাখে   ক্লান্ত কপোত ডাকে\r\n",
      "         করুণ কাতর গানে রে॥\r\n",
      "ভয় নাহি, ভয় নাহি।   গগনে রয়েছি চাহি।\r\n",
      "    জানি ঝঞঝার বেশে   দিবে দেখা তুমি এসে\r\n",
      "         একদা তাপিত প্রাণে রে॥\n",
      "enum: 1\n"
     ]
    }
   ],
   "source": [
    "def print_plot(index):\n",
    "    example = df[df.index == index][['lyrics', 'enum']].values[0]\n",
    "    if len(example) > 0:\n",
    "        print(example[0])\n",
    "        print('enum:', example[1])\n",
    "print_plot(10)"
   ]
  },
  {
   "cell_type": "code",
   "execution_count": 157,
   "metadata": {},
   "outputs": [
    {
     "name": "stdout",
     "output_type": "stream",
     "text": [
      " যেতে দাও   যেতে দাও গেল যারা।\r\n",
      "             তুমি যেয়ো না,   তুমি যেও না,\r\n",
      "     আমার  বাদলের গান হয় নি সারা॥\r\n",
      "কুটিরে কুটিরে বন্ধ দ্বার,   নিভৃত রজনী অন্ধকার,\r\n",
      "  বনের অঞ্চল কাঁপে চঞ্চল–আধীর সমীর তন্দ্রাহারা॥\r\n",
      "দীপ নিবেছে নিবুক নাকো,   আঁধারে তব পরশ রাখো।\r\n",
      "বাজুক কাঁকন তোমার হাতে   আমার গানের তালের সাথে,\r\n",
      "  যেমন নদীর ছলোছলো জলে   ঝরে ঝরোঝরো শ্রাবণধারা॥\n",
      "enum: 1\n"
     ]
    }
   ],
   "source": [
    "print_plot(47)"
   ]
  },
  {
   "cell_type": "code",
   "execution_count": 158,
   "metadata": {},
   "outputs": [],
   "source": [
    "lineList = list()\n",
    "with open('bengali_stopwords.txt', encoding='utf8') as f:\n",
    "    for line in f:\n",
    "        lineList.append(line)\n",
    "        \n",
    "lineList = [line.rstrip('\\n') for line in open('bengali_stopwords.txt', encoding='utf8')]"
   ]
  },
  {
   "cell_type": "code",
   "execution_count": 159,
   "metadata": {},
   "outputs": [
    {
     "name": "stdout",
     "output_type": "stream",
     "text": [
      "কুসুমে কুসুমে চরণচিহ্ন দিয়ে যাও  শেষে দাও মুছে  ওহে চঞ্চল  বেলা না যেতে খেলা কেন তব যায় ঘুচে  চকিত চোখের অশ্রুসজল বেদনায় তুমি ছুঁয়ে ছুঁয়ে চল   কোথা সে পথের শেষ কোন্  সুদূরের দেশ সবাই তোমায় তাই পুছে  বাঁশরির ডাকে কুঁড়ি ধরে শাখে  ফুল যবে ফোটে নাই দেখা  তোমার লগন যায় যে কখন  মালা গেঁথে আমি রই একা   এসো এসো এসো  আঁখি কয় কেঁদে  তৃষিত বক্ষ বলে  রাখি বেঁধে   যেতে যেতে  ওগো প্রিয়  কিছু ফেলে রেখে দিয়ো ধরা দিতে যদি নাই রুচে \n",
      "enum: 1\n",
      "কান্নাহাসির দোল দোলানো পৌষ ফাগুনের পালা  তারি মধ্যে চিরজীবন বইব গানের ডালা  এই কি তোমার খুশি  আমায় তাই পরালে মালা সুরের গন্ধ ঢালা   তাই কি আমার ঘুম ছুটেছে  বাঁধ টুটেছে মনে  খ্যাপা হাওয়ার ঢেউ উঠেছে চিরব্যথার বনে  কাঁপে আমার দিবানিশার সকল আঁধার আলা  এই কি তোমার খুশি  আমায় তাই পরালে মালা সুরের গন্ধ ঢালা   রাতের বাসা হয় নি বাঁধা দিনের কাজে ত্রুটি  বিনা কাজের সেবার মাঝে পাই নে আমি ছুটি  শান্তি কোথায় মোর তরে হায় বিশ্বভুবন মাঝে  অশান্তি যে আঘাত করে তাই তো বীণা বাজে  নিত্য রবে প্রাণ পোড়ানো গানের আগুন জ্বালা  এই কি তোমার খুশি  আমায় তাই পরালে মালা সুরের গন্ধ ঢালা  \n",
      "enum: 2\n"
     ]
    }
   ],
   "source": [
    "import re\n",
    "import collections\n",
    "\n",
    "def clean_text(t1):\n",
    "    whitespace = re.compile(u\"[\\s\\u0020\\u00a0\\u1680\\u180e\\u202f\\u205f\\u3000\\u2000-\\u200a]+\", re.UNICODE)\n",
    "    bangla_fullstop = u\"\\u0964\"\n",
    "    bangla_double=u\"\\u0965\"\n",
    "    hyphen=\"–\"\n",
    "    hyphen2=\"—\"\n",
    "    halfspace=\"\\u200c\"\n",
    "    halfspace1=\"\\u200d\"\n",
    "    randomspace=\"\\ufeff\"\n",
    "    punctSeq   = u\"['\\\"“”‘’]+|[.?!,…]+|[:;]+\"\n",
    "    punc = u\"[(),$%^&*+={}\\[\\]:\\\"|\\'\\~`<>/,¦!?½£¶¼©⅐⅑⅒⅓⅔⅕⅖⅗⅘⅙⅚⅛⅜⅝⅞⅟↉¤¿º;-]+\"\n",
    "\n",
    "    t1= whitespace.sub(\" \",t1).strip()\n",
    "    t1 = re.sub(punctSeq, \" \", t1)\n",
    "    t1 = re.sub(bangla_fullstop, \" \",t1)\n",
    "    t1 = re.sub(bangla_double, \" \",t1)\n",
    "    t1 = re.sub(punc, \" \", t1)\n",
    "    t1 = re.sub(hyphen, \" \",t1)\n",
    "    t1 = re.sub(hyphen2, \" \",t1)\n",
    "    t1 = re.sub(halfspace, \" \",t1)\n",
    "    t1 = re.sub(halfspace1, \" \",t1)\n",
    "    t1 = re.sub(randomspace, \" \",t1)\n",
    "    return t1\n",
    "    \n",
    "    #word_tokens = word_tokenize(t1)\n",
    "    #filtered_sentence = [w for w in word_tokens if not w in lineList] \n",
    "  \n",
    "    #filtered_sentence = [] \n",
    "  \n",
    "    #for w in word_tokens: \n",
    "    #    if w not in lineList:\n",
    "    #        filtered_sentence.append(w)\n",
    "    \n",
    "    #t1final = ( \" \".join(filtered_sentence))\n",
    "    #return t1final\n",
    "\n",
    "df['lyrics']=df['lyrics'].apply(clean_text)\n",
    "for i in (1,200):\n",
    "    print_plot(i)"
   ]
  },
  {
   "cell_type": "code",
   "execution_count": 160,
   "metadata": {},
   "outputs": [
    {
     "data": {
      "text/plain": [
       "54387"
      ]
     },
     "execution_count": 160,
     "metadata": {},
     "output_type": "execute_result"
    }
   ],
   "source": [
    "df['lyrics'].apply(lambda x: len(x.split(' '))).sum()"
   ]
  },
  {
   "cell_type": "code",
   "execution_count": 161,
   "metadata": {},
   "outputs": [],
   "source": [
    "import warnings\n",
    "import logging\n",
    "import pandas as pd\n",
    "import numpy as np\n",
    "from numpy import random\n",
    "import gensim\n",
    "import nltk\n",
    "from sklearn.model_selection import train_test_split\n",
    "from sklearn.feature_extraction.text import CountVectorizer, TfidfVectorizer\n",
    "from sklearn.metrics import accuracy_score, confusion_matrix\n",
    "import matplotlib.pyplot as plt\n",
    "from nltk.corpus import stopwords\n",
    "import re\n",
    "from bs4 import BeautifulSoup\n",
    "warnings.filterwarnings(action='ignore', category=UserWarning, module='gensim')"
   ]
  },
  {
   "cell_type": "code",
   "execution_count": 162,
   "metadata": {},
   "outputs": [],
   "source": [
    "X = df.lyrics\n",
    "y = df.enum\n",
    "X_train, X_test, y_train, y_test = train_test_split(X, y, test_size=0.3, random_state = 30)"
   ]
  },
  {
   "cell_type": "code",
   "execution_count": 163,
   "metadata": {},
   "outputs": [
    {
     "name": "stdout",
     "output_type": "stream",
     "text": [
      "\n",
      "OK. The 50 most common words are as follows\n",
      "\n",
      "রে :  61\n",
      "কোন্ :  42\n",
      "এসো :  32\n",
      "আজি :  32\n",
      "হে :  32\n",
      "মেঘের :  27\n",
      "আকাশ :  26\n",
      "মাঝে :  25\n",
      "তব :  25\n",
      "বাদল :  24\n",
      "হৃদয় :  22\n",
      "নব :  20\n",
      "মনে :  19\n",
      "ঘন :  19\n",
      "বনে :  18\n",
      "বাণী :  18\n",
      "বাজে :  17\n",
      "বনের :  17\n",
      "হাওয়া :  17\n",
      "গানে :  16\n",
      "মোর :  16\n",
      "ভরা :  16\n",
      "ক্ষণে :  16\n",
      "সজল :  16\n",
      "সুরে :  15\n",
      "কোথা :  14\n",
      "আ :  14\n",
      "পাতায় :  14\n",
      "আসে :  14\n",
      "একি :  13\n",
      "যাক :  13\n",
      "শ্যামল :  13\n",
      "জাগে :  12\n",
      "উঠে :  12\n",
      "আঁধার :  12\n",
      "গগনে :  12\n",
      "সাথে :  12\n",
      "গভীর :  12\n",
      "পানে :  12\n",
      "গান :  12\n",
      "মন :  12\n",
      "সারা :  12\n",
      "প্রাণের :  12\n",
      "হাওয়ায় :  12\n",
      "এসেছে :  12\n",
      "বেলা :  11\n",
      "আঁখি :  11\n",
      "ঝরে :  11\n",
      "গানের :  11\n",
      "শেষে :  10\n",
      "দারুণ অগ্নিবাণে রে হৃদয় তৃষায় হানে রে রজনী নিদ্রাহীন দীর্ঘ দগ্ধ দিন আরাম নাহি জানে রে শুষ্ক কাননশাখে ক্লান্ত কপোত ডাকে করুণ কাতর গানে রে ভয় নাহি ভয় নাহি গগনে রয়েছি চাহি জানি ঝঞঝার বেশে দিবে একদা তাপিত প্রাণে রে\n",
      "enum: 1\n"
     ]
    },
    {
     "data": {
      "image/png": "[encoded data removed]",
      "text/plain": [
       "<Figure size 432x288 with 1 Axes>"
      ]
     },
     "metadata": {
      "needs_background": "light"
     },
     "output_type": "display_data"
    }
   ],
   "source": [
    "import re\n",
    "import collections\n",
    "\n",
    "wordcount = {}\n",
    "firstcount=0\n",
    "\n",
    "def clean_text(t1):\n",
    "    global firstcount\n",
    "    firstcount=firstcount+1\n",
    "    whitespace = re.compile(u\"[\\s\\u0020\\u00a0\\u1680\\u180e\\u202f\\u205f\\u3000\\u2000-\\u200a]+\", re.UNICODE)\n",
    "    bangla_fullstop = u\"\\u0964\"\n",
    "    bangla_double=u\"\\u0965\"\n",
    "    hyphen=\"–\"\n",
    "    hyphen2=\"—\"\n",
    "    halfspace=\"\\u200c\"\n",
    "    halfspace1=\"\\u200d\"\n",
    "    randomspace=\"\\ufeff\"\n",
    "    punctSeq   = u\"['\\\"“”‘’]+|[.?!,…]+|[:;]+\"\n",
    "    punc = u\"[(),$%^&*+={}\\[\\]:\\\"|\\'\\~`<>/,¦!?½£¶¼©⅐⅑⅒⅓⅔⅕⅖⅗⅘⅙⅚⅛⅜⅝⅞⅟↉¤¿º;-]+\"\n",
    "\n",
    "    t1= whitespace.sub(\" \",t1).strip()\n",
    "    t1 = re.sub(punctSeq, \" \", t1)\n",
    "    t1 = re.sub(bangla_fullstop, \" \",t1)\n",
    "    t1 = re.sub(bangla_double, \" \",t1)\n",
    "    t1 = re.sub(punc, \" \", t1)\n",
    "    t1 = re.sub(hyphen, \" \",t1)\n",
    "    t1 = re.sub(hyphen2, \" \",t1)\n",
    "    t1 = re.sub(halfspace, \" \",t1)\n",
    "    t1 = re.sub(halfspace1, \" \",t1)\n",
    "    t1 = re.sub(randomspace, \" \",t1)\n",
    "    #return t1\n",
    "    \n",
    "    word_tokens = word_tokenize(t1)\n",
    "    filtered_sentence = [w for w in word_tokens if not w in lineList] \n",
    "  \n",
    "    filtered_sentence = [] \n",
    "  \n",
    "    for w in word_tokens: \n",
    "        if w not in lineList:\n",
    "            if w not in wordcount:\n",
    "                wordcount[w]=1\n",
    "            else:\n",
    "                wordcount[w] +=1\n",
    "            filtered_sentence.append(w)\n",
    "    # Print most common word\n",
    "    n_print = 50\n",
    "    if firstcount==100:\n",
    "        print(\"\\nOK. The {} most common words are as follows\\n\".format(n_print))\n",
    "        word_counter = collections.Counter(wordcount)\n",
    "        for word, count in word_counter.most_common(n_print):\n",
    "            print(word, \": \", count)\n",
    "        \n",
    "        lst = word_counter.most_common(n_print)\n",
    "        df = pd.DataFrame(lst, columns = ['Word', 'Count'])\n",
    "        df.plot.bar(x='Word',y='Count')\n",
    "    \n",
    "    t1final = ( \" \".join(filtered_sentence))\n",
    "    return t1final\n",
    "\n",
    "df['lyrics']=df['lyrics'].apply(clean_text)\n",
    "print_plot(10)"
   ]
  },
  {
   "cell_type": "code",
   "execution_count": 164,
   "metadata": {},
   "outputs": [
    {
     "name": "stdout",
     "output_type": "stream",
     "text": [
      "Wall time: 0 ns\n",
      "NAIVE BAYES\n",
      "accuracy 0.5180180180180181\n",
      "              precision    recall  f1-score   support\n",
      "\n",
      "         1.0       0.47      0.79      0.59        48\n",
      "         2.0       0.58      0.68      0.62        66\n",
      "         3.0       1.00      0.07      0.12        45\n",
      "         4.0       0.48      0.46      0.47        63\n",
      "\n",
      "   micro avg       0.52      0.52      0.52       222\n",
      "   macro avg       0.63      0.50      0.45       222\n",
      "weighted avg       0.61      0.52      0.47       222\n",
      "\n"
     ]
    }
   ],
   "source": [
    "from sklearn.naive_bayes import MultinomialNB\n",
    "from sklearn.pipeline import Pipeline\n",
    "from sklearn.feature_extraction.text import TfidfTransformer\n",
    "\n",
    "nb = Pipeline([('vect', CountVectorizer()),\n",
    "               ('tfidf', TfidfTransformer()),\n",
    "               ('clf', MultinomialNB()),\n",
    "              ])\n",
    "nb.fit(X_train, y_train)\n",
    "%time\n",
    "from sklearn.metrics import classification_report\n",
    "y_pred = nb.predict(X_test)\n",
    "\n",
    "print(\"NAIVE BAYES\")\n",
    "print('accuracy %s' % accuracy_score(y_pred, y_test))\n",
    "print(classification_report(y_test, y_pred,target_names=my_tags))"
   ]
  },
  {
   "cell_type": "code",
   "execution_count": 165,
   "metadata": {
    "scrolled": true
   },
   "outputs": [
    {
     "name": "stdout",
     "output_type": "stream",
     "text": [
      "Wall time: 0 ns\n",
      "LINEAR SUPPORT VECTOR MACHINE\n",
      "accuracy 0.5720720720720721\n",
      "              precision    recall  f1-score   support\n",
      "\n",
      "         1.0       0.55      0.83      0.66        48\n",
      "         2.0       0.59      0.71      0.64        66\n",
      "         3.0       0.67      0.22      0.33        45\n",
      "         4.0       0.56      0.48      0.51        63\n",
      "\n",
      "   micro avg       0.57      0.57      0.57       222\n",
      "   macro avg       0.59      0.56      0.54       222\n",
      "weighted avg       0.59      0.57      0.55       222\n",
      "\n"
     ]
    },
    {
     "name": "stderr",
     "output_type": "stream",
     "text": [
      "C:\\CONDA\\lib\\site-packages\\sklearn\\linear_model\\stochastic_gradient.py:183: FutureWarning: max_iter and tol parameters have been added in SGDClassifier in 0.19. If max_iter is set but tol is left unset, the default value for tol in 0.19 and 0.20 will be None (which is equivalent to -infinity, so it has no effect) but will change in 0.21 to 1e-3. Specify tol to silence this warning.\n",
      "  FutureWarning)\n"
     ]
    }
   ],
   "source": [
    "from sklearn.linear_model import SGDClassifier\n",
    "\n",
    "sgd = Pipeline([('vect', CountVectorizer()),\n",
    "                ('tfidf', TfidfTransformer()),\n",
    "                ('clf', SGDClassifier(loss='hinge', penalty='l2',alpha=1e-2, random_state=10, max_iter=30, tol=None)),\n",
    "               ])\n",
    "sgd.fit(X_train, y_train)\n",
    "\n",
    "%time\n",
    "print(\"LINEAR SUPPORT VECTOR MACHINE\")\n",
    "y_pred = sgd.predict(X_test)\n",
    "\n",
    "print('accuracy %s' % accuracy_score(y_pred, y_test))\n",
    "print(classification_report(y_test, y_pred,target_names=my_tags))"
   ]
  },
  {
   "cell_type": "code",
   "execution_count": 166,
   "metadata": {},
   "outputs": [
    {
     "name": "stdout",
     "output_type": "stream",
     "text": [
      "Wall time: 0 ns\n",
      "LOGISTIC REGRESSION\n",
      "accuracy 0.5405405405405406\n",
      "              precision    recall  f1-score   support\n",
      "\n",
      "         1.0       0.53      0.69      0.60        48\n",
      "         2.0       0.56      0.68      0.62        66\n",
      "         3.0       0.62      0.33      0.43        45\n",
      "         4.0       0.48      0.43      0.45        63\n",
      "\n",
      "   micro avg       0.54      0.54      0.54       222\n",
      "   macro avg       0.55      0.53      0.53       222\n",
      "weighted avg       0.55      0.54      0.53       222\n",
      "\n"
     ]
    },
    {
     "name": "stderr",
     "output_type": "stream",
     "text": [
      "C:\\CONDA\\lib\\site-packages\\sklearn\\linear_model\\logistic.py:433: FutureWarning: Default solver will be changed to 'lbfgs' in 0.22. Specify a solver to silence this warning.\n",
      "  FutureWarning)\n",
      "C:\\CONDA\\lib\\site-packages\\sklearn\\linear_model\\logistic.py:460: FutureWarning: Default multi_class will be changed to 'auto' in 0.22. Specify the multi_class option to silence this warning.\n",
      "  \"this warning.\", FutureWarning)\n"
     ]
    }
   ],
   "source": [
    "from sklearn.linear_model import LogisticRegression\n",
    "\n",
    "\n",
    "logreg = Pipeline([('vect', CountVectorizer()),\n",
    "                ('tfidf', TfidfTransformer()),\n",
    "                ('clf', LogisticRegression(n_jobs=1, C=1e1)),\n",
    "               ])\n",
    "logreg.fit(X_train, y_train)\n",
    "\n",
    "%time\n",
    "\n",
    "y_pred = logreg.predict(X_test)\n",
    "print(\"LOGISTIC REGRESSION\")\n",
    "print('accuracy %s' % accuracy_score(y_pred, y_test))\n",
    "print(classification_report(y_test, y_pred,target_names=my_tags))\n"
   ]
  },
  {
   "cell_type": "code",
   "execution_count": 167,
   "metadata": {},
   "outputs": [
    {
     "name": "stdout",
     "output_type": "stream",
     "text": [
      "                                                lyrics  enum  totalwords\n",
      "444  নমো  নমো  নমো  নমো  নমো  নমো  তুমি ক্ষুধার্তজন...     1          14\n",
      "14   নমো নমো  হে বৈরাগী  তপোবহ্নির শিখা জ্বালো জ্বা...     1          14\n",
      "439  নবকুন্দধবলদলসুশীতলা  অতি সুনির্মলা  সুখসমুজ্জল...     1          15\n",
      "430  এসো শরতের অমল মহিমা  এসো হে ধীরে  চিত্ত বিকাশি...     1          18\n",
      "335  বাজে গুরুগুরু শঙ্কার ডঙ্কা  ঝঞ্ঝা ঘনায় দূরে ভী...     3          18\n",
      "87   নমো  নমো  নমো করুণাঘন  নমো হে  নয়ন স্নিগ্ধ অমৃ...     1          19\n",
      "197  ওগো শান্ত পাষাণমুরতি সুন্দরী  চঞ্চলেরে হৃদয়তলে...     4          22\n",
      "455  নমো  নমো  নমো  নমো  নমো  নমো  নির্দয় অতি করুণা...     1          22\n",
      "433  মরি লো  কার বাঁশি নিশিভোরে বাজিল মোর প্রাণে  ফ...     1          24\n",
      "710  আমি একলা চলেছি এ ভবে  আমায় পথের সন্ধান কে কবে ...     3          25\n",
      "\n",
      " কুসুমে কুসুমে চরণচিহ্ন দিয়ে যাও  শেষে দাও মুছে  ওহে চঞ্চল  বেলা না যেতে খেলা কেন তব যায় ঘুচে  চকিত চোখের অশ্রুসজল বেদনায় তুমি ছুঁয়ে ছুঁয়ে চল   কোথা সে পথের শেষ কোন্  সুদূরের দেশ সবাই তোমায় তাই পুছে  বাঁশরির ডাকে কুঁড়ি ধরে শাখে  ফুল যবে ফোটে নাই দেখা  তোমার লগন যায় যে কখন  মালা গেঁথে আমি রই একা   এসো এসো এসো  আঁখি কয় কেঁদে  তৃষিত বক্ষ বলে  রাখি বেঁধে   যেতে যেতে  ওগো প্রিয়  কিছু ফেলে রেখে দিয়ো ধরা দিতে যদি নাই রুচে \n",
      "2\n"
     ]
    }
   ],
   "source": [
    "#Import data from csv\n",
    "import pandas as pd\n",
    "import re\n",
    "import collections\n",
    "def clean_text(t1):\n",
    "    whitespace = re.compile(u\"[\\s\\u0020\\u00a0\\u1680\\u180e\\u202f\\u205f\\u3000\\u2000-\\u200a]+\", re.UNICODE)\n",
    "    bangla_fullstop = u\"\\u0964\"\n",
    "    bangla_double=u\"\\u0965\"\n",
    "    hyphen=\"–\"\n",
    "    hyphen2=\"—\"\n",
    "    halfspace=\"\\u200c\"\n",
    "    halfspace1=\"\\u200d\"\n",
    "    randomspace=\"\\ufeff\"\n",
    "    punctSeq   = u\"['\\\"“”‘’]+|[.?!,…]+|[:;]+\"\n",
    "    punc = u\"[(),$%^&*+={}\\[\\]:\\\"|\\'\\~`<>/,¦!?½£¶¼©⅐⅑⅒⅓⅔⅕⅖⅗⅘⅙⅚⅛⅜⅝⅞⅟↉¤¿º;-]+\"\n",
    "\n",
    "    t1= whitespace.sub(\" \",t1).strip()\n",
    "    t1 = re.sub(punctSeq, \" \", t1)\n",
    "    t1 = re.sub(bangla_fullstop, \" \",t1)\n",
    "    t1 = re.sub(bangla_double, \" \",t1)\n",
    "    t1 = re.sub(punc, \" \", t1)\n",
    "    t1 = re.sub(hyphen, \" \",t1)\n",
    "    t1 = re.sub(hyphen2, \" \",t1)\n",
    "    t1 = re.sub(halfspace, \" \",t1)\n",
    "    t1 = re.sub(halfspace1, \" \",t1)\n",
    "    t1 = re.sub(randomspace, \" \",t1)\n",
    "    return t1\n",
    "\n",
    "df = pd.read_csv('final_dataset.csv')\n",
    "df['lyrics']=df['lyrics'].apply(clean_text)\n",
    "df['totalwords'] = [len(x.split()) for x in df['lyrics'].tolist()]\n",
    "dt=df.sort_values(['totalwords'], ascending=[True])  #least words in a song with song number //False for descending\n",
    "print(dt[0:10]) #least 10 poems with min num of words\n",
    "text =df.iloc[1,0] #selects second poem\n",
    "print(\"\\n\",text)\n",
    "print(text.count(\"কুসুমে\"))"
   ]
  },
  {
   "cell_type": "code",
   "execution_count": null,
   "metadata": {},
   "outputs": [],
   "source": []
  },
  {
   "cell_type": "code",
   "execution_count": null,
   "metadata": {},
   "outputs": [],
   "source": []
  }
 ],
 "metadata": {
  "kernelspec": {
   "display_name": "Python 3",
   "language": "python",
   "name": "python3"
  },
  "language_info": {
   "codemirror_mode": {
    "name": "ipython",
    "version": 3
   },
   "file_extension": ".py",
   "mimetype": "text/x-python",
   "name": "python",
   "nbconvert_exporter": "python",
   "pygments_lexer": "ipython3",
   "version": "3.7.3"
  }
 },
 "nbformat": 4,
 "nbformat_minor": 2
}
